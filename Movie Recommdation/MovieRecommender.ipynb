{
 "cells": [
  {
   "cell_type": "code",
   "execution_count": 1,
   "id": "42b90b82-c697-4ef5-8827-2dbec4dc073e",
   "metadata": {},
   "outputs": [],
   "source": [
    "#Importing the Libraries\n",
    "import pandas as pd\n",
    "import warnings\n",
    "warnings.filterwarnings('ignore')\n",
    "\n",
    "def movie_recommend(movie_selected = 'Star Wars (1977)'):\n",
    "    #Reading the Data Files\n",
    "    cols = ['user_id', 'movie_id', 'rating', 'ts']\n",
    "    df = pd.read_csv('u.data', sep = '\\t', names = cols).drop('ts', axis = 1)\n",
    "    item_cols = ['movie_id', 'titles'] + [str(i) for i in range(22)]\n",
    "    df1 = pd.read_csv('u.item', sep = '|', names = item_cols, encoding = \"ISO-8859-1\")[['movie_id', 'titles']]\n",
    "    \n",
    "    #Merging the two Data Frames\n",
    "    movie = pd.merge(df, df1, on = 'movie_id')\n",
    "    \n",
    "    #Creating a Pivot Table\n",
    "    movie_pivot = movie.pivot_table(index = 'user_id', columns = 'titles', values = 'rating')\n",
    "    \n",
    "    #Finding the similarity for the Selected Movie\n",
    "    corrs = movie_pivot.corrwith(movie_pivot[movie_selected])\n",
    "    corrs_df = pd.DataFrame(corrs, columns = ['correlation'])\n",
    "    corrs_df['avg_ratings'] = movie.groupby('titles')['rating'].mean()\n",
    "    corrs_df['count'] = movie['titles'].value_counts()\n",
    "    \n",
    "    #Finding the top 2-3 Recommendations\n",
    "    top_recom = list(corrs_df[corrs_df['count'] > 50].sort_values(by = 'correlation', ascending = False).head(3).index)\n",
    "    top_recom.remove(movie_selected)\n",
    "    \n",
    "    #Returning the top 2-3 Recommended Movies\n",
    "    return top_recom\n",
    "    "
   ]
  },
  {
   "cell_type": "code",
   "execution_count": 2,
   "id": "0e328f23-4710-41cb-b473-00be51583e9a",
   "metadata": {},
   "outputs": [
    {
     "data": {
      "text/plain": [
       "['Daylight (1996)', 'Anastasia (1997)']"
      ]
     },
     "execution_count": 2,
     "metadata": {},
     "output_type": "execute_result"
    }
   ],
   "source": [
    "movie_recommend('Giant (1956)')"
   ]
  },
  {
   "cell_type": "code",
   "execution_count": null,
   "id": "f019aa9b-3a78-47c0-9025-c9eafa04a678",
   "metadata": {},
   "outputs": [],
   "source": []
  }
 ],
 "metadata": {
  "kernelspec": {
   "display_name": "Python 3.9.12 ('base')",
   "language": "python",
   "name": "python3"
  },
  "language_info": {
   "codemirror_mode": {
    "name": "ipython",
    "version": 3
   },
   "file_extension": ".py",
   "mimetype": "text/x-python",
   "name": "python",
   "nbconvert_exporter": "python",
   "pygments_lexer": "ipython3",
   "version": "3.9.12"
  },
  "vscode": {
   "interpreter": {
    "hash": "631af202ec7c40e141c49d63cac6c8cb664469fed6e4d5ddc6436b49edc60500"
   }
  }
 },
 "nbformat": 4,
 "nbformat_minor": 5
}
